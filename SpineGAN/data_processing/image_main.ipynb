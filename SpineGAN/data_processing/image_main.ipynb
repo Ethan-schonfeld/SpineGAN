{
 "cells": [
  {
   "cell_type": "code",
   "execution_count": 3,
   "metadata": {},
   "outputs": [],
   "source": [
    "local_directory = \"/Users/ethanschonfeld/desktop/CS236G/data/train_images/\""
   ]
  },
  {
   "cell_type": "code",
   "execution_count": 4,
   "metadata": {},
   "outputs": [],
   "source": [
    "virtual_directory = \"/home/ethanschonfeld/cs236g/vindr/train_images/\""
   ]
  },
  {
   "cell_type": "code",
   "execution_count": null,
   "metadata": {},
   "outputs": [],
   "source": [
    "vindr_directory = \"/home/ethanschonfeld/cs236g/vindr/\""
   ]
  },
  {
   "cell_type": "code",
   "execution_count": 6,
   "metadata": {},
   "outputs": [],
   "source": [
    "from image_processing import *\n",
    "import os\n",
    "import torch\n",
    "import pandas as pd"
   ]
  },
  {
   "cell_type": "code",
   "execution_count": null,
   "metadata": {},
   "outputs": [],
   "source": [
    "if torch.cuda.is_available():\n",
    "    directory = virtual_directory\n",
    "else:\n",
    "    directory = local_directory"
   ]
  },
  {
   "cell_type": "code",
   "execution_count": null,
   "metadata": {},
   "outputs": [],
   "source": [
    "annotations = pd.read_csv(vindr_directory+\"annotations/train.csv\")\n",
    "annotations.index = annotations.loc[:, \"image_id\"]"
   ]
  },
  {
   "cell_type": "code",
   "execution_count": null,
   "metadata": {},
   "outputs": [],
   "source": [
    "for file in os.listdir(directory):\n",
    "    print(file)\n",
    "    if file == \".DS_Store\":\n",
    "        continue\n",
    "    npy_image = convert_dicom_to_npy(directory+file, save=False)\n",
    "    if npy_image is None:\n",
    "        continue\n",
    "    npy_image = crop_square(image=npy_image)\n",
    "    npy_image = downsample_square_image(image=npy_image, desired_size=128)\n",
    "    image_id = file[:-6]\n",
    "    if bool(set(annotations.loc[:, \"lesion_type\"]) & set(annotations.loc[image_id, \"lesion_type\"])):\n",
    "        print(\"To abnormal: \", image_id)\n",
    "        save_as_png(image=npy_image, file_directory=\"/home/ethanschonfeld/cs236g/training_data/abnormal/\"+image_id+\".png\")\n",
    "    else:\n",
    "        save_as_png(image=npy_image, file_directory=\"/home/ethanschonfeld/cs236g/training_data/normal/\"+image_id+\".png\")\n",
    "        print(\"To normal: \", image_id)"
   ]
  }
 ],
 "metadata": {
  "kernelspec": {
   "display_name": "Python 3",
   "language": "python",
   "name": "python3"
  },
  "language_info": {
   "codemirror_mode": {
    "name": "ipython",
    "version": 3
   },
   "file_extension": ".py",
   "mimetype": "text/x-python",
   "name": "python",
   "nbconvert_exporter": "python",
   "pygments_lexer": "ipython3",
   "version": "3.8.5"
  }
 },
 "nbformat": 4,
 "nbformat_minor": 4
}
