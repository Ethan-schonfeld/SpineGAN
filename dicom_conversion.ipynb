{
 "cells": [
  {
   "cell_type": "code",
   "execution_count": 1,
   "metadata": {},
   "outputs": [],
   "source": [
    "import os\n",
    "import pydicom as dicom\n",
    "import matplotlib.pylab as plt\n",
    "import numpy as np"
   ]
  },
  {
   "cell_type": "code",
   "execution_count": 2,
   "metadata": {},
   "outputs": [],
   "source": [
    "base_path = os.getcwd()\n",
    "path_to_dicom = base_path+\"/data/test_images/\"\n",
    "save_file_directory = base_path+\"/data/test_npy\""
   ]
  },
  {
   "cell_type": "code",
   "execution_count": 3,
   "metadata": {},
   "outputs": [
    {
     "name": "stderr",
     "output_type": "stream",
     "text": [
      "/Users/ethanschonfeld/opt/anaconda3/lib/python3.8/site-packages/pydicom/pixel_data_handlers/pillow_handler.py:176: UserWarning: The (0028,0101) 'Bits Stored' value (12-bit) doesn't match the JPEG 2000 data (16-bit). It's recommended that you change the 'Bits Stored' value\n",
      "  warnings.warn(\n",
      "/Users/ethanschonfeld/opt/anaconda3/lib/python3.8/site-packages/pydicom/filereader.py:372: UserWarning: End of file reached before delimiter (fffe, e0dd) found in file /Users/ethanschonfeld/Desktop/CS236G/data/test_images/00f61276be8d5f1067337de30bded315.dicom\n",
      "  warnings.warn(msg, UserWarning)\n"
     ]
    },
    {
     "name": "stdout",
     "output_type": "stream",
     "text": [
      "The following DICOM File was not saved to npy format:\n",
      "00f61276be8d5f1067337de30bded315.dicom\n"
     ]
    }
   ],
   "source": [
    "os.chdir(path_to_dicom)\n",
    "for dicom_file in os.listdir():\n",
    "    try:\n",
    "        image_path = path_to_dicom+dicom_file\n",
    "        ds = dicom.dcmread(image_path)\n",
    "        image = ds.pixel_array\n",
    "        np_image = np.asarray(image)\n",
    "        file_name = save_file_directory+\"/\"+dicom_file[:-6]+\".npy\"\n",
    "        np.save(file_name, np_image)\n",
    "    except:\n",
    "        print(\"The following DICOM File was not saved to npy format:\")\n",
    "        print(dicom_file)\n",
    "        continue"
   ]
  },
  {
   "cell_type": "code",
   "execution_count": null,
   "metadata": {},
   "outputs": [],
   "source": []
  }
 ],
 "metadata": {
  "kernelspec": {
   "display_name": "Python 3",
   "language": "python",
   "name": "python3"
  },
  "language_info": {
   "codemirror_mode": {
    "name": "ipython",
    "version": 3
   },
   "file_extension": ".py",
   "mimetype": "text/x-python",
   "name": "python",
   "nbconvert_exporter": "python",
   "pygments_lexer": "ipython3",
   "version": "3.8.5"
  }
 },
 "nbformat": 4,
 "nbformat_minor": 4
}
