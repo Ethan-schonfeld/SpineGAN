{
 "cells": [
  {
   "cell_type": "code",
   "execution_count": 51,
   "metadata": {},
   "outputs": [],
   "source": [
    "import os\n",
    "import numpy as np\n",
    "import cv2\n",
    "from PIL import Image"
   ]
  },
  {
   "cell_type": "code",
   "execution_count": 33,
   "metadata": {},
   "outputs": [],
   "source": [
    "def crop_square(image_directory=None, image=None):\n",
    "    if image is None:\n",
    "        image = np.load(image_directory)\n",
    "    smallest_dimension_size = min(image.shape[0], image.shape[1])\n",
    "    largest_dimension_size = max(image.shape[0], image.shape[1])\n",
    "    amount_to_cut_from_each_side = int((largest_dimension_size - smallest_dimension_size)/2)\n",
    "    if image.shape[0] <= image.shape[1]:\n",
    "        square_image = image[:, amount_to_cut_from_each_side:(amount_to_cut_from_each_side+image.shape[0])]\n",
    "    else:\n",
    "        square_image = image[amount_to_cut_from_each_side:(amount_to_cut_from_each_side+image.shape[1]), :]\n",
    "    return square_image"
   ]
  },
  {
   "cell_type": "code",
   "execution_count": 48,
   "metadata": {},
   "outputs": [],
   "source": [
    "def downsample_square_image(image_directory=None, image=None, desired_size=128):\n",
    "    if image is None:\n",
    "        image = np.load(image_directory)\n",
    "    res = cv2.resize(image, dsize=(desired_size, desired_size), interpolation=cv2.INTER_NEAREST)\n",
    "    return res"
   ]
  },
  {
   "cell_type": "code",
   "execution_count": 57,
   "metadata": {},
   "outputs": [],
   "source": [
    "def save_as_png(image_directory=None, image=None, file_directory=\"./train_images/\"):\n",
    "    if image is None:\n",
    "        image = np.load(image_directory)\n",
    "    im = Image.fromarray(image)\n",
    "    im.save(file_directory)"
   ]
  },
  {
   "cell_type": "code",
   "execution_count": 66,
   "metadata": {},
   "outputs": [],
   "source": [
    "def read_png_to_npy(file_directory):\n",
    "    with Image.open(file_directory) as im:\n",
    "        img_np = np.asarray(im)\n",
    "        return img_np"
   ]
  }
 ],
 "metadata": {
  "kernelspec": {
   "display_name": "Python 3",
   "language": "python",
   "name": "python3"
  },
  "language_info": {
   "codemirror_mode": {
    "name": "ipython",
    "version": 3
   },
   "file_extension": ".py",
   "mimetype": "text/x-python",
   "name": "python",
   "nbconvert_exporter": "python",
   "pygments_lexer": "ipython3",
   "version": "3.8.5"
  }
 },
 "nbformat": 4,
 "nbformat_minor": 4
}
